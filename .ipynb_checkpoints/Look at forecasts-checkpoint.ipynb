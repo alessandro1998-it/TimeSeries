{
 "cells": [
  {
   "cell_type": "code",
   "execution_count": 1,
   "metadata": {},
   "outputs": [],
   "source": [
    "import pandas as pd\n",
    "import matplotlib.pyplot as plt\n",
    "import ipywidgets as ipw\n",
    "import os\n",
    "%matplotlib inline"
   ]
  },
  {
   "cell_type": "code",
   "execution_count": 14,
   "metadata": {},
   "outputs": [
    {
     "name": "stdout",
     "output_type": "stream",
     "text": [
      "['LightGBM.csv', 'Linear_Regression.csv', 'NeuralNetwork.csv', 'RandomForest.csv', 'Sarima.csv']\n"
     ]
    }
   ],
   "source": [
    "# Read result files\n",
    "files = os.listdir('Results')\n",
    "print(files)"
   ]
  },
  {
   "cell_type": "code",
   "execution_count": 17,
   "metadata": {},
   "outputs": [
    {
     "name": "stdout",
     "output_type": "stream",
     "text": [
      "['LightGBM', 'Linear_Regression', 'NeuralNetwork', 'RandomForest', 'Sarima']\n"
     ]
    }
   ],
   "source": [
    "model_names = [x.split('.')[0] for x in files]\n",
    "print(model_names)"
   ]
  },
  {
   "cell_type": "code",
   "execution_count": 19,
   "metadata": {},
   "outputs": [],
   "source": [
    "results = [pd.read_csv('Results/' + file_name) for file_name in files]"
   ]
  },
  {
   "cell_type": "code",
   "execution_count": 21,
   "metadata": {},
   "outputs": [],
   "source": [
    "for model_name, dataset in zip(model_names, results):\n",
    "    dataset['model'] = model_name"
   ]
  },
  {
   "cell_type": "code",
   "execution_count": 23,
   "metadata": {},
   "outputs": [
    {
     "name": "stderr",
     "output_type": "stream",
     "text": [
      "c:\\users\\dario.scanferlato\\appdata\\local\\programs\\python\\python36\\lib\\site-packages\\ipykernel_launcher.py:1: FutureWarning: Sorting because non-concatenation axis is not aligned. A future version\n",
      "of pandas will change to not sort by default.\n",
      "\n",
      "To accept the future behavior, pass 'sort=False'.\n",
      "\n",
      "To retain the current behavior and silence the warning, pass 'sort=True'.\n",
      "\n",
      "  \"\"\"Entry point for launching an IPython kernel.\n"
     ]
    }
   ],
   "source": [
    "results = pd.concat(results)"
   ]
  },
  {
   "cell_type": "code",
   "execution_count": 27,
   "metadata": {},
   "outputs": [],
   "source": [
    "results['date'] = pd.to_datetime(results['date'])\n",
    "results = results.set_index('date')"
   ]
  },
  {
   "cell_type": "code",
   "execution_count": 30,
   "metadata": {},
   "outputs": [
    {
     "data": {
      "application/vnd.jupyter.widget-view+json": {
       "model_id": "60a7febaaeb2430e8357783fd4f950fb",
       "version_major": 2,
       "version_minor": 0
      },
      "text/plain": [
       "interactive(children=(Dropdown(description='model', options=('LightGBM', 'Linear_Regression', 'NeuralNetwork',…"
      ]
     },
     "metadata": {},
     "output_type": "display_data"
    }
   ],
   "source": [
    "@ipw.interact(model=results['model'].unique(),\n",
    "              store=results['store'].unique(),\n",
    "              item=results['item'].unique())\n",
    "def plot_forecast(model, store, item):\n",
    "    \n",
    "    data = results[results['model'].eq(model) &\n",
    "                   results['store'].eq(store) &\n",
    "                   results['item'].eq(item)]\n",
    "    \n",
    "    actual_sales = data['sales']\n",
    "    forecasted_sales = data['predicted']\n",
    "    \n",
    "    plt.figure(figsize=(16, 9))\n",
    "    plt.plot(actual_sales)\n",
    "    plt.plot(forecasted_sales)\n",
    "    plt.show()"
   ]
  },
  {
   "cell_type": "code",
   "execution_count": null,
   "metadata": {},
   "outputs": [],
   "source": []
  }
 ],
 "metadata": {
  "kernelspec": {
   "display_name": "Python 3",
   "language": "python",
   "name": "python3"
  },
  "language_info": {
   "codemirror_mode": {
    "name": "ipython",
    "version": 3
   },
   "file_extension": ".py",
   "mimetype": "text/x-python",
   "name": "python",
   "nbconvert_exporter": "python",
   "pygments_lexer": "ipython3",
   "version": "3.6.6"
  }
 },
 "nbformat": 4,
 "nbformat_minor": 2
}
