{
 "cells": [
  {
   "cell_type": "code",
   "execution_count": 1,
   "metadata": {},
   "outputs": [],
   "source": [
    "import pandas as pd\n",
    "import matplotlib.pyplot as plt\n",
    "import ipywidgets as ipw\n",
    "import os\n",
    "%matplotlib inline"
   ]
  },
  {
   "cell_type": "code",
   "execution_count": 2,
   "metadata": {},
   "outputs": [
    {
     "name": "stdout",
     "output_type": "stream",
     "text": [
      "['LightGBM.csv', 'Linear_Regression.csv', 'MLPNeuralNetwork.csv', 'NeuralNetwork.csv', 'RandomForest.csv', 'Sarima.csv']\n"
     ]
    }
   ],
   "source": [
    "# Read result files\n",
    "files = os.listdir('Results')\n",
    "print(files)"
   ]
  },
  {
   "cell_type": "code",
   "execution_count": 3,
   "metadata": {},
   "outputs": [
    {
     "name": "stdout",
     "output_type": "stream",
     "text": [
      "['LightGBM', 'Linear_Regression', 'MLPNeuralNetwork', 'NeuralNetwork', 'RandomForest', 'Sarima']\n"
     ]
    }
   ],
   "source": [
    "model_names = [x.split('.')[0] for x in files]\n",
    "print(model_names)"
   ]
  },
  {
   "cell_type": "code",
   "execution_count": 4,
   "metadata": {},
   "outputs": [],
   "source": [
    "results = [pd.read_csv('Results/' + file_name) for file_name in files]"
   ]
  },
  {
   "cell_type": "code",
   "execution_count": 5,
   "metadata": {},
   "outputs": [],
   "source": [
    "for model_name, dataset in zip(model_names, results):\n",
    "    dataset['model'] = model_name"
   ]
  },
  {
   "cell_type": "code",
   "execution_count": 6,
   "metadata": {},
   "outputs": [],
   "source": [
    "results = pd.concat(results)"
   ]
  },
  {
   "cell_type": "code",
   "execution_count": 7,
   "metadata": {},
   "outputs": [],
   "source": [
    "results['date'] = pd.to_datetime(results['date'])\n",
    "results = results.set_index('date')"
   ]
  },
  {
   "cell_type": "code",
   "execution_count": 8,
   "metadata": {},
   "outputs": [
    {
     "data": {
      "application/vnd.jupyter.widget-view+json": {
       "model_id": "8aede56ec4974bcbbd5ee37312dc38f5",
       "version_major": 2,
       "version_minor": 0
      },
      "text/plain": [
       "interactive(children=(Dropdown(description='model', options=('LightGBM', 'Linear_Regression', 'MLPNeuralNetwor…"
      ]
     },
     "metadata": {},
     "output_type": "display_data"
    }
   ],
   "source": [
    "@ipw.interact(model=results['model'].unique(),\n",
    "              store=results['store'].unique(),\n",
    "              item=results['item'].unique())\n",
    "def plot_forecast(model, store, item):\n",
    "    \n",
    "    data = results[results['model'].eq(model) &\n",
    "                   results['store'].eq(store) &\n",
    "                   results['item'].eq(item)]\n",
    "    \n",
    "    actual_sales = data['sales']\n",
    "    forecasted_sales = data['predicted']\n",
    "    \n",
    "    plt.figure(figsize=(16, 9))\n",
    "    plt.plot(actual_sales)\n",
    "    plt.plot(forecasted_sales)\n",
    "    plt.show()"
   ]
  },
  {
   "cell_type": "code",
   "execution_count": 12,
   "metadata": {},
   "outputs": [
    {
     "data": {
      "text/html": [
       "<div>\n",
       "<style scoped>\n",
       "    .dataframe tbody tr th:only-of-type {\n",
       "        vertical-align: middle;\n",
       "    }\n",
       "\n",
       "    .dataframe tbody tr th {\n",
       "        vertical-align: top;\n",
       "    }\n",
       "\n",
       "    .dataframe thead tr th {\n",
       "        text-align: left;\n",
       "    }\n",
       "\n",
       "    .dataframe thead tr:last-of-type th {\n",
       "        text-align: right;\n",
       "    }\n",
       "</style>\n",
       "<table border=\"1\" class=\"dataframe\">\n",
       "  <thead>\n",
       "    <tr>\n",
       "      <th></th>\n",
       "      <th></th>\n",
       "      <th></th>\n",
       "      <th></th>\n",
       "      <th colspan=\"6\" halign=\"left\">predicted</th>\n",
       "    </tr>\n",
       "    <tr>\n",
       "      <th></th>\n",
       "      <th></th>\n",
       "      <th></th>\n",
       "      <th>model</th>\n",
       "      <th>LightGBM</th>\n",
       "      <th>Linear_Regression</th>\n",
       "      <th>MLPNeuralNetwork</th>\n",
       "      <th>NeuralNetwork</th>\n",
       "      <th>RandomForest</th>\n",
       "      <th>Sarima</th>\n",
       "    </tr>\n",
       "    <tr>\n",
       "      <th>date</th>\n",
       "      <th>store</th>\n",
       "      <th>item</th>\n",
       "      <th>sales</th>\n",
       "      <th></th>\n",
       "      <th></th>\n",
       "      <th></th>\n",
       "      <th></th>\n",
       "      <th></th>\n",
       "      <th></th>\n",
       "    </tr>\n",
       "  </thead>\n",
       "  <tbody>\n",
       "    <tr>\n",
       "      <th rowspan=\"5\" valign=\"top\">2017-01-01</th>\n",
       "      <th rowspan=\"5\" valign=\"top\">1</th>\n",
       "      <th>1</th>\n",
       "      <th>19</th>\n",
       "      <td>19.596704</td>\n",
       "      <td>16.896689</td>\n",
       "      <td>18.985357</td>\n",
       "      <td>23.915342</td>\n",
       "      <td>17.216794</td>\n",
       "      <td>22.866158</td>\n",
       "    </tr>\n",
       "    <tr>\n",
       "      <th>2</th>\n",
       "      <th>40</th>\n",
       "      <td>53.174747</td>\n",
       "      <td>45.090398</td>\n",
       "      <td>51.998937</td>\n",
       "      <td>68.058890</td>\n",
       "      <td>47.157040</td>\n",
       "      <td>43.114228</td>\n",
       "    </tr>\n",
       "    <tr>\n",
       "      <th>3</th>\n",
       "      <th>36</th>\n",
       "      <td>34.203154</td>\n",
       "      <td>28.239730</td>\n",
       "      <td>32.493531</td>\n",
       "      <td>3.464338</td>\n",
       "      <td>31.830476</td>\n",
       "      <td>35.579584</td>\n",
       "    </tr>\n",
       "    <tr>\n",
       "      <th>4</th>\n",
       "      <th>21</th>\n",
       "      <td>19.687542</td>\n",
       "      <td>16.530686</td>\n",
       "      <td>21.587899</td>\n",
       "      <td>26.258550</td>\n",
       "      <td>18.922334</td>\n",
       "      <td>21.368000</td>\n",
       "    </tr>\n",
       "    <tr>\n",
       "      <th>5</th>\n",
       "      <th>25</th>\n",
       "      <td>17.335538</td>\n",
       "      <td>13.925843</td>\n",
       "      <td>16.155383</td>\n",
       "      <td>20.904638</td>\n",
       "      <td>16.459488</td>\n",
       "      <td>21.216375</td>\n",
       "    </tr>\n",
       "    <tr>\n",
       "      <th>...</th>\n",
       "      <th>...</th>\n",
       "      <th>...</th>\n",
       "      <th>...</th>\n",
       "      <td>...</td>\n",
       "      <td>...</td>\n",
       "      <td>...</td>\n",
       "      <td>...</td>\n",
       "      <td>...</td>\n",
       "      <td>...</td>\n",
       "    </tr>\n",
       "    <tr>\n",
       "      <th rowspan=\"5\" valign=\"top\">2017-12-31</th>\n",
       "      <th rowspan=\"5\" valign=\"top\">10</th>\n",
       "      <th>46</th>\n",
       "      <th>70</th>\n",
       "      <td>69.659428</td>\n",
       "      <td>60.110850</td>\n",
       "      <td>63.845230</td>\n",
       "      <td>0.000000</td>\n",
       "      <td>69.404812</td>\n",
       "      <td>73.727066</td>\n",
       "    </tr>\n",
       "    <tr>\n",
       "      <th>47</th>\n",
       "      <th>22</th>\n",
       "      <td>25.093030</td>\n",
       "      <td>22.504504</td>\n",
       "      <td>24.055461</td>\n",
       "      <td>0.000000</td>\n",
       "      <td>26.778020</td>\n",
       "      <td>18.790406</td>\n",
       "    </tr>\n",
       "    <tr>\n",
       "      <th>48</th>\n",
       "      <th>60</th>\n",
       "      <td>59.002148</td>\n",
       "      <td>54.547992</td>\n",
       "      <td>56.183878</td>\n",
       "      <td>51.290100</td>\n",
       "      <td>56.936532</td>\n",
       "      <td>2.271333</td>\n",
       "    </tr>\n",
       "    <tr>\n",
       "      <th>49</th>\n",
       "      <th>42</th>\n",
       "      <td>30.011359</td>\n",
       "      <td>30.041552</td>\n",
       "      <td>31.933779</td>\n",
       "      <td>0.000000</td>\n",
       "      <td>25.312052</td>\n",
       "      <td>12.216808</td>\n",
       "    </tr>\n",
       "    <tr>\n",
       "      <th>50</th>\n",
       "      <th>82</th>\n",
       "      <td>68.414575</td>\n",
       "      <td>67.818274</td>\n",
       "      <td>0.243423</td>\n",
       "      <td>69.687614</td>\n",
       "      <td>63.714357</td>\n",
       "      <td>18.316702</td>\n",
       "    </tr>\n",
       "  </tbody>\n",
       "</table>\n",
       "<p>182500 rows × 6 columns</p>\n",
       "</div>"
      ],
      "text/plain": [
       "                             predicted                                     \\\n",
       "model                         LightGBM Linear_Regression MLPNeuralNetwork   \n",
       "date       store item sales                                                 \n",
       "2017-01-01 1     1    19     19.596704         16.896689        18.985357   \n",
       "                 2    40     53.174747         45.090398        51.998937   \n",
       "                 3    36     34.203154         28.239730        32.493531   \n",
       "                 4    21     19.687542         16.530686        21.587899   \n",
       "                 5    25     17.335538         13.925843        16.155383   \n",
       "...                                ...               ...              ...   \n",
       "2017-12-31 10    46   70     69.659428         60.110850        63.845230   \n",
       "                 47   22     25.093030         22.504504        24.055461   \n",
       "                 48   60     59.002148         54.547992        56.183878   \n",
       "                 49   42     30.011359         30.041552        31.933779   \n",
       "                 50   82     68.414575         67.818274         0.243423   \n",
       "\n",
       "                                                                   \n",
       "model                       NeuralNetwork RandomForest     Sarima  \n",
       "date       store item sales                                        \n",
       "2017-01-01 1     1    19        23.915342    17.216794  22.866158  \n",
       "                 2    40        68.058890    47.157040  43.114228  \n",
       "                 3    36         3.464338    31.830476  35.579584  \n",
       "                 4    21        26.258550    18.922334  21.368000  \n",
       "                 5    25        20.904638    16.459488  21.216375  \n",
       "...                                   ...          ...        ...  \n",
       "2017-12-31 10    46   70         0.000000    69.404812  73.727066  \n",
       "                 47   22         0.000000    26.778020  18.790406  \n",
       "                 48   60        51.290100    56.936532   2.271333  \n",
       "                 49   42         0.000000    25.312052  12.216808  \n",
       "                 50   82        69.687614    63.714357  18.316702  \n",
       "\n",
       "[182500 rows x 6 columns]"
      ]
     },
     "execution_count": 12,
     "metadata": {},
     "output_type": "execute_result"
    }
   ],
   "source": [
    "results.pivot_table(index=['date', 'store', 'item', 'sales'], columns=['model'], values=['predicted'])"
   ]
  },
  {
   "cell_type": "code",
   "execution_count": null,
   "metadata": {},
   "outputs": [],
   "source": []
  }
 ],
 "metadata": {
  "kernelspec": {
   "display_name": "Python 3",
   "language": "python",
   "name": "python3"
  },
  "language_info": {
   "codemirror_mode": {
    "name": "ipython",
    "version": 3
   },
   "file_extension": ".py",
   "mimetype": "text/x-python",
   "name": "python",
   "nbconvert_exporter": "python",
   "pygments_lexer": "ipython3",
   "version": "3.6.6"
  }
 },
 "nbformat": 4,
 "nbformat_minor": 2
}
